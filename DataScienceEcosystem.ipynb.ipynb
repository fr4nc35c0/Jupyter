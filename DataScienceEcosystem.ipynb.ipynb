{
 "cells": [
  {
   "cell_type": "markdown",
   "id": "c6ba5565-6479-49e7-94f6-78dd1f7a6fa7",
   "metadata": {},
   "source": [
    "# Data Science Tools and Ecosystem"
   ]
  },
  {
   "cell_type": "markdown",
   "id": "050c571f-17d8-4c97-a022-e92ed77296dd",
   "metadata": {},
   "source": [
    "In this notebook, Data Science Tools and Ecosystem are summarized."
   ]
  },
  {
   "cell_type": "markdown",
   "id": "3604b44d-dac1-44dc-b3f7-bfb3b6e6a390",
   "metadata": {},
   "source": [
    "**Objectives:**"
   ]
  },
  {
   "cell_type": "markdown",
   "id": "23ba87e1-9986-4c2b-a5a1-92723ef8ee14",
   "metadata": {},
   "source": [
    "List of some Version management sistems:\n",
    "- GitHub\n",
    "- GitLab\n",
    "- MicrosoftAzure"
   ]
  },
  {
   "cell_type": "markdown",
   "id": "29887bfc-ed9a-42ed-ace1-b4695daabc21",
   "metadata": {},
   "source": [
    "Some of the popular languages that Data Scientists use are:\n",
    "1. Python\n",
    "2. R\n",
    "3. SQL"
   ]
  },
  {
   "cell_type": "markdown",
   "id": "a0bbf302-5f4c-4826-be78-55fcb2622cae",
   "metadata": {},
   "source": [
    "Some of the commonly used libraries used by Data Scientists include:\n",
    "1. Pandas\n",
    "2. NumPy\n",
    "3. Matplotlib"
   ]
  },
  {
   "cell_type": "markdown",
   "id": "f0ea8bd9-2f3d-4d39-a77f-6a320e91bd69",
   "metadata": {},
   "source": [
    "|Data Science Tools|\n",
    "|------------------|\n",
    "|Jupyter Notebook  |\n",
    "|VS Code           |\n",
    "|RStudio           |\n",
    "\n"
   ]
  },
  {
   "cell_type": "markdown",
   "id": "04792b20-eb5a-4646-92b2-52b0b873cf26",
   "metadata": {},
   "source": [
    "### Below are a few examples of evaluating arithmetic expressions in Python"
   ]
  },
  {
   "cell_type": "code",
   "execution_count": 4,
   "id": "66c25a4f-6559-49fd-a015-f57cb33a0f8b",
   "metadata": {},
   "outputs": [
    {
     "data": {
      "text/plain": [
       "17"
      ]
     },
     "execution_count": 4,
     "metadata": {},
     "output_type": "execute_result"
    }
   ],
   "source": [
    "# This a simple arithmetic expression to mutiply then add integers\n",
    "(3*4)+5"
   ]
  },
  {
   "cell_type": "code",
   "execution_count": 5,
   "id": "ee354321-ffb6-4435-bf94-0d6acb9c7a19",
   "metadata": {},
   "outputs": [
    {
     "data": {
      "text/plain": [
       "3.3333333333333335"
      ]
     },
     "execution_count": 5,
     "metadata": {},
     "output_type": "execute_result"
    }
   ],
   "source": [
    "# This will convert 200 minutes to hours by diving by 60\n",
    "\n",
    "minutes = 200\n",
    "hours = minutes/ 60\n",
    "hours"
   ]
  },
  {
   "cell_type": "markdown",
   "id": "ea3693eb-b544-4cde-882f-0750291a91b6",
   "metadata": {},
   "source": [
    "## Author\n",
    "\n",
    "Francesco"
   ]
  },
  {
   "cell_type": "code",
   "execution_count": null,
   "id": "d50d184d-585c-4055-821f-3973957506ed",
   "metadata": {},
   "outputs": [],
   "source": []
  }
 ],
 "metadata": {
  "kernelspec": {
   "display_name": "Python 3 (ipykernel)",
   "language": "python",
   "name": "python3"
  },
  "language_info": {
   "codemirror_mode": {
    "name": "ipython",
    "version": 3
   },
   "file_extension": ".py",
   "mimetype": "text/x-python",
   "name": "python",
   "nbconvert_exporter": "python",
   "pygments_lexer": "ipython3",
   "version": "3.9.7"
  }
 },
 "nbformat": 4,
 "nbformat_minor": 5
}
